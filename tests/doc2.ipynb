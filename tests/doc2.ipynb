{
 "cells": [
  {
   "cell_type": "markdown",
   "id": "e59cb407",
   "metadata": {},
   "source": [
    "# Import Libs"
   ]
  },
  {
   "cell_type": "code",
   "execution_count": 4,
   "id": "7fc6f637",
   "metadata": {},
   "outputs": [],
   "source": [
    "import GaussNBO as gnbo\n",
    "from rich import print"
   ]
  },
  {
   "cell_type": "code",
   "execution_count": 2,
   "id": "4260cb53",
   "metadata": {},
   "outputs": [
    {
     "name": "stdout",
     "output_type": "stream",
     "text": [
      "0.1.0\n"
     ]
    }
   ],
   "source": [
    "# version\n",
    "print(gnbo.__version__)"
   ]
  },
  {
   "cell_type": "markdown",
   "id": "51c37cd0",
   "metadata": {},
   "source": [
    "# Data Parsing"
   ]
  },
  {
   "cell_type": "code",
   "execution_count": 6,
   "id": "40dfd524",
   "metadata": {},
   "outputs": [],
   "source": [
    "# extract data\n",
    "nbo_data = gnbo.launch(\n",
    "    file_path=r'E:\\Python Projects\\GaussNBO\\tests\\nbo.log',\n",
    "    view_browser=True\n",
    ")\n",
    "# print(nbo_data)"
   ]
  }
 ],
 "metadata": {
  "kernelspec": {
   "display_name": "venv",
   "language": "python",
   "name": "python3"
  },
  "language_info": {
   "codemirror_mode": {
    "name": "ipython",
    "version": 3
   },
   "file_extension": ".py",
   "mimetype": "text/x-python",
   "name": "python",
   "nbconvert_exporter": "python",
   "pygments_lexer": "ipython3",
   "version": "3.10.0"
  }
 },
 "nbformat": 4,
 "nbformat_minor": 5
}
